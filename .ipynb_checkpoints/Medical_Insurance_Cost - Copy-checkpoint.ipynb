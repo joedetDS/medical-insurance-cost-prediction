{
 "cells": [
  {
   "cell_type": "markdown",
   "id": "06a9d676",
   "metadata": {},
   "source": [
    "# 📚Imports"
   ]
  },
  {
   "cell_type": "code",
   "execution_count": 1,
   "id": "ac71a5dc",
   "metadata": {},
   "outputs": [],
   "source": [
    "import numpy as np\n",
    "import pandas as pd\n",
    "import warnings\n",
    "warnings.filterwarnings('ignore')"
   ]
  },
  {
   "cell_type": "markdown",
   "id": "ecbadddd",
   "metadata": {},
   "source": [
    "# 🧾Data Loading"
   ]
  },
  {
   "cell_type": "code",
   "execution_count": 2,
   "id": "b7997064",
   "metadata": {},
   "outputs": [],
   "source": [
    "insurance=pd.read_csv(\"insurance.csv\")"
   ]
  },
  {
   "cell_type": "code",
   "execution_count": 3,
   "id": "ce8bc2e7",
   "metadata": {
    "scrolled": true
   },
   "outputs": [
    {
     "data": {
      "text/html": [
       "<div>\n",
       "<style scoped>\n",
       "    .dataframe tbody tr th:only-of-type {\n",
       "        vertical-align: middle;\n",
       "    }\n",
       "\n",
       "    .dataframe tbody tr th {\n",
       "        vertical-align: top;\n",
       "    }\n",
       "\n",
       "    .dataframe thead th {\n",
       "        text-align: right;\n",
       "    }\n",
       "</style>\n",
       "<table border=\"1\" class=\"dataframe\">\n",
       "  <thead>\n",
       "    <tr style=\"text-align: right;\">\n",
       "      <th></th>\n",
       "      <th>age</th>\n",
       "      <th>sex</th>\n",
       "      <th>bmi</th>\n",
       "      <th>children</th>\n",
       "      <th>smoker</th>\n",
       "      <th>region</th>\n",
       "      <th>charges</th>\n",
       "    </tr>\n",
       "  </thead>\n",
       "  <tbody>\n",
       "    <tr>\n",
       "      <th>0</th>\n",
       "      <td>19</td>\n",
       "      <td>female</td>\n",
       "      <td>27.900</td>\n",
       "      <td>0</td>\n",
       "      <td>yes</td>\n",
       "      <td>southwest</td>\n",
       "      <td>16884.92400</td>\n",
       "    </tr>\n",
       "    <tr>\n",
       "      <th>1</th>\n",
       "      <td>18</td>\n",
       "      <td>male</td>\n",
       "      <td>33.770</td>\n",
       "      <td>1</td>\n",
       "      <td>no</td>\n",
       "      <td>southeast</td>\n",
       "      <td>1725.55230</td>\n",
       "    </tr>\n",
       "    <tr>\n",
       "      <th>2</th>\n",
       "      <td>28</td>\n",
       "      <td>male</td>\n",
       "      <td>33.000</td>\n",
       "      <td>3</td>\n",
       "      <td>no</td>\n",
       "      <td>southeast</td>\n",
       "      <td>4449.46200</td>\n",
       "    </tr>\n",
       "    <tr>\n",
       "      <th>3</th>\n",
       "      <td>33</td>\n",
       "      <td>male</td>\n",
       "      <td>22.705</td>\n",
       "      <td>0</td>\n",
       "      <td>no</td>\n",
       "      <td>northwest</td>\n",
       "      <td>21984.47061</td>\n",
       "    </tr>\n",
       "    <tr>\n",
       "      <th>4</th>\n",
       "      <td>32</td>\n",
       "      <td>male</td>\n",
       "      <td>28.880</td>\n",
       "      <td>0</td>\n",
       "      <td>no</td>\n",
       "      <td>northwest</td>\n",
       "      <td>3866.85520</td>\n",
       "    </tr>\n",
       "  </tbody>\n",
       "</table>\n",
       "</div>"
      ],
      "text/plain": [
       "   age     sex     bmi  children smoker     region      charges\n",
       "0   19  female  27.900         0    yes  southwest  16884.92400\n",
       "1   18    male  33.770         1     no  southeast   1725.55230\n",
       "2   28    male  33.000         3     no  southeast   4449.46200\n",
       "3   33    male  22.705         0     no  northwest  21984.47061\n",
       "4   32    male  28.880         0     no  northwest   3866.85520"
      ]
     },
     "execution_count": 3,
     "metadata": {},
     "output_type": "execute_result"
    }
   ],
   "source": [
    "insurance.head()"
   ]
  },
  {
   "cell_type": "markdown",
   "id": "2263a8a7",
   "metadata": {},
   "source": [
    "# 🔍Exploratory Data Analysis"
   ]
  },
  {
   "cell_type": "markdown",
   "id": "7bf21faa",
   "metadata": {},
   "source": [
    "## 🧽Data Cleaning"
   ]
  },
  {
   "cell_type": "code",
   "execution_count": 4,
   "id": "5f40027a",
   "metadata": {},
   "outputs": [
    {
     "data": {
      "text/plain": [
       "(1338, 7)"
      ]
     },
     "execution_count": 4,
     "metadata": {},
     "output_type": "execute_result"
    }
   ],
   "source": [
    "#To view the number of rows and columns of the dataset\n",
    "\n",
    "insurance.shape"
   ]
  },
  {
   "cell_type": "code",
   "execution_count": 5,
   "id": "f2b08335",
   "metadata": {
    "scrolled": false
   },
   "outputs": [
    {
     "data": {
      "text/plain": [
       "age         0\n",
       "sex         0\n",
       "bmi         0\n",
       "children    0\n",
       "smoker      0\n",
       "region      0\n",
       "charges     0\n",
       "dtype: int64"
      ]
     },
     "execution_count": 5,
     "metadata": {},
     "output_type": "execute_result"
    }
   ],
   "source": [
    "#Checking for missing values\n",
    "\n",
    "insurance.isna().sum()"
   ]
  },
  {
   "cell_type": "code",
   "execution_count": 6,
   "id": "406f8621",
   "metadata": {
    "scrolled": true
   },
   "outputs": [
    {
     "data": {
      "text/plain": [
       "1"
      ]
     },
     "execution_count": 6,
     "metadata": {},
     "output_type": "execute_result"
    }
   ],
   "source": [
    "#Check if there is duplicates\n",
    "\n",
    "insurance.duplicated().sum()"
   ]
  },
  {
   "cell_type": "code",
   "execution_count": 7,
   "id": "7ddfd176",
   "metadata": {},
   "outputs": [],
   "source": [
    "#Drop the duplicate but keep the first\n",
    "\n",
    "insurance.drop_duplicates(keep='first',inplace=True)"
   ]
  },
  {
   "cell_type": "code",
   "execution_count": 8,
   "id": "63be003c",
   "metadata": {
    "scrolled": true
   },
   "outputs": [
    {
     "data": {
      "text/plain": [
       "0"
      ]
     },
     "execution_count": 8,
     "metadata": {},
     "output_type": "execute_result"
    }
   ],
   "source": [
    "#Check again to confirm that duplicates have been removed\n",
    "\n",
    "insurance.duplicated().sum()"
   ]
  },
  {
   "cell_type": "code",
   "execution_count": 9,
   "id": "61623d99",
   "metadata": {
    "scrolled": false
   },
   "outputs": [
    {
     "name": "stdout",
     "output_type": "stream",
     "text": [
      "<class 'pandas.core.frame.DataFrame'>\n",
      "Int64Index: 1337 entries, 0 to 1337\n",
      "Data columns (total 7 columns):\n",
      " #   Column    Non-Null Count  Dtype  \n",
      "---  ------    --------------  -----  \n",
      " 0   age       1337 non-null   int64  \n",
      " 1   sex       1337 non-null   object \n",
      " 2   bmi       1337 non-null   float64\n",
      " 3   children  1337 non-null   int64  \n",
      " 4   smoker    1337 non-null   object \n",
      " 5   region    1337 non-null   object \n",
      " 6   charges   1337 non-null   float64\n",
      "dtypes: float64(2), int64(2), object(3)\n",
      "memory usage: 83.6+ KB\n"
     ]
    }
   ],
   "source": [
    "#checking a summarized information of the data\n",
    "\n",
    "insurance.info()"
   ]
  },
  {
   "cell_type": "markdown",
   "id": "c61a83d6",
   "metadata": {},
   "source": [
    "### The inference drawn from the summarized information indicates that we have both numerical and categorical columns in our dataset and also, no column has null values"
   ]
  },
  {
   "cell_type": "code",
   "execution_count": 10,
   "id": "3b89c397",
   "metadata": {},
   "outputs": [
    {
     "data": {
      "text/plain": [
       "Index(['age', 'sex', 'bmi', 'children', 'smoker', 'region', 'charges'], dtype='object')"
      ]
     },
     "execution_count": 10,
     "metadata": {},
     "output_type": "execute_result"
    }
   ],
   "source": [
    "#checking the columns in the dataset\n",
    "\n",
    "insurance.columns"
   ]
  },
  {
   "cell_type": "markdown",
   "id": "484de00e",
   "metadata": {},
   "source": [
    "### Columns Explanation\n",
    "\n",
    "#### Age: tells of the age of a particular individual\n",
    "#### Sex: tells if an individual is male or female\n",
    "#### BMI: it shows the body mass index of an individual. People with bmi below 18.5 are considered underweight, people with bmi within the range of 18.5 to 24.9 are considered normal weighted, individuals from 25 to 29.9 are seen as overweighted and those above 30 are considered obese\n",
    "#### Smoker: indicates if the individual smokes\n",
    "#### Region: indicate which of the four region is the person located in.\n",
    "#### Charges(in US dollars): used to indicate the estimated price paid by an individual."
   ]
  },
  {
   "cell_type": "markdown",
   "id": "6e949230",
   "metadata": {},
   "source": [
    "## Statistical information"
   ]
  },
  {
   "cell_type": "code",
   "execution_count": 11,
   "id": "a78c6e6f",
   "metadata": {},
   "outputs": [
    {
     "data": {
      "text/html": [
       "<div>\n",
       "<style scoped>\n",
       "    .dataframe tbody tr th:only-of-type {\n",
       "        vertical-align: middle;\n",
       "    }\n",
       "\n",
       "    .dataframe tbody tr th {\n",
       "        vertical-align: top;\n",
       "    }\n",
       "\n",
       "    .dataframe thead th {\n",
       "        text-align: right;\n",
       "    }\n",
       "</style>\n",
       "<table border=\"1\" class=\"dataframe\">\n",
       "  <thead>\n",
       "    <tr style=\"text-align: right;\">\n",
       "      <th></th>\n",
       "      <th>age</th>\n",
       "      <th>bmi</th>\n",
       "      <th>children</th>\n",
       "      <th>charges</th>\n",
       "    </tr>\n",
       "  </thead>\n",
       "  <tbody>\n",
       "    <tr>\n",
       "      <th>count</th>\n",
       "      <td>1337.000000</td>\n",
       "      <td>1337.000000</td>\n",
       "      <td>1337.000000</td>\n",
       "      <td>1337.000000</td>\n",
       "    </tr>\n",
       "    <tr>\n",
       "      <th>mean</th>\n",
       "      <td>39.222139</td>\n",
       "      <td>30.663452</td>\n",
       "      <td>1.095737</td>\n",
       "      <td>13279.121487</td>\n",
       "    </tr>\n",
       "    <tr>\n",
       "      <th>std</th>\n",
       "      <td>14.044333</td>\n",
       "      <td>6.100468</td>\n",
       "      <td>1.205571</td>\n",
       "      <td>12110.359656</td>\n",
       "    </tr>\n",
       "    <tr>\n",
       "      <th>min</th>\n",
       "      <td>18.000000</td>\n",
       "      <td>15.960000</td>\n",
       "      <td>0.000000</td>\n",
       "      <td>1121.873900</td>\n",
       "    </tr>\n",
       "    <tr>\n",
       "      <th>25%</th>\n",
       "      <td>27.000000</td>\n",
       "      <td>26.290000</td>\n",
       "      <td>0.000000</td>\n",
       "      <td>4746.344000</td>\n",
       "    </tr>\n",
       "    <tr>\n",
       "      <th>50%</th>\n",
       "      <td>39.000000</td>\n",
       "      <td>30.400000</td>\n",
       "      <td>1.000000</td>\n",
       "      <td>9386.161300</td>\n",
       "    </tr>\n",
       "    <tr>\n",
       "      <th>75%</th>\n",
       "      <td>51.000000</td>\n",
       "      <td>34.700000</td>\n",
       "      <td>2.000000</td>\n",
       "      <td>16657.717450</td>\n",
       "    </tr>\n",
       "    <tr>\n",
       "      <th>max</th>\n",
       "      <td>64.000000</td>\n",
       "      <td>53.130000</td>\n",
       "      <td>5.000000</td>\n",
       "      <td>63770.428010</td>\n",
       "    </tr>\n",
       "  </tbody>\n",
       "</table>\n",
       "</div>"
      ],
      "text/plain": [
       "               age          bmi     children       charges\n",
       "count  1337.000000  1337.000000  1337.000000   1337.000000\n",
       "mean     39.222139    30.663452     1.095737  13279.121487\n",
       "std      14.044333     6.100468     1.205571  12110.359656\n",
       "min      18.000000    15.960000     0.000000   1121.873900\n",
       "25%      27.000000    26.290000     0.000000   4746.344000\n",
       "50%      39.000000    30.400000     1.000000   9386.161300\n",
       "75%      51.000000    34.700000     2.000000  16657.717450\n",
       "max      64.000000    53.130000     5.000000  63770.428010"
      ]
     },
     "execution_count": 11,
     "metadata": {},
     "output_type": "execute_result"
    }
   ],
   "source": [
    "#Summarized statistical information of the numerical features\n",
    "\n",
    "insurance.describe()"
   ]
  },
  {
   "cell_type": "markdown",
   "id": "b4fda1e2",
   "metadata": {},
   "source": [
    "# 📊Visualization"
   ]
  },
  {
   "cell_type": "markdown",
   "id": "5fba2886",
   "metadata": {},
   "source": [
    "## Univariate and Multivariant Analysis"
   ]
  },
  {
   "cell_type": "code",
   "execution_count": null,
   "id": "6677a247",
   "metadata": {},
   "outputs": [],
   "source": [
    "insurance.pairpot()"
   ]
  },
  {
   "cell_type": "code",
   "execution_count": null,
   "id": "6074e09c",
   "metadata": {},
   "outputs": [],
   "source": [
    "import seaborn as sns\n",
    "import matplotlib.pyplot as plt"
   ]
  },
  {
   "cell_type": "code",
   "execution_count": null,
   "id": "a59cb77d",
   "metadata": {
    "scrolled": false
   },
   "outputs": [],
   "source": [
    "sns.set()\n",
    "plt.figure(figsize=(10,8))\n",
    "sns.displot(x=insurance['age'],kind='kde')\n",
    "plt.title('Age Distribution')\n",
    "plt.show()"
   ]
  },
  {
   "cell_type": "markdown",
   "id": "5d99a892",
   "metadata": {},
   "source": [
    "##### The univatiate analysis of the age distribution for our dataset reveals a clear peak at the age of approx. 22, which means that people around 22 years old is the most common age among individual in our dataset. The second  most common age appears to be approximately or close to 49"
   ]
  },
  {
   "cell_type": "code",
   "execution_count": null,
   "id": "57bb8134",
   "metadata": {},
   "outputs": [],
   "source": [
    "sns.set()\n",
    "plt.figure(figsize=(10,8))\n",
    "sns.displot(x=insurance['age'],hue=insurance['smoker'])\n",
    "plt.title('Ages by smoking status')\n",
    "plt.show()"
   ]
  },
  {
   "cell_type": "markdown",
   "id": "e69cf0c7",
   "metadata": {},
   "source": [
    "##### The univariant analysis of the age distribution by their smoking status shows that many younger adults in their twenties are smokers."
   ]
  },
  {
   "cell_type": "code",
   "execution_count": null,
   "id": "a7a5ee28",
   "metadata": {},
   "outputs": [],
   "source": [
    "#value count of male and female\n",
    "\n",
    "insurance['sex'].value_counts()"
   ]
  },
  {
   "cell_type": "code",
   "execution_count": null,
   "id": "5a41bda4",
   "metadata": {},
   "outputs": [],
   "source": [
    "sns.set()\n",
    "plt.figure(figsize=(8,6))\n",
    "sns.countplot(x=insurance['sex'],hue=insurance['smoker'])\n",
    "plt.title('Sex by smoker status')\n",
    "plt.show()"
   ]
  },
  {
   "cell_type": "markdown",
   "id": "743a9bfe",
   "metadata": {},
   "source": [
    "##### This univariate analysis of the sex column indicates that we have a slight change in the numbers of female to male in our dataset but there are more male smokers to female smokers. i.e. the likelihood of a female being a smoker is lesser when compared to the male gender."
   ]
  },
  {
   "cell_type": "code",
   "execution_count": null,
   "id": "2075404c",
   "metadata": {},
   "outputs": [],
   "source": [
    "sns.set()\n",
    "plt.figure(figsize=(8,6))\n",
    "sns.displot(x=insurance['bmi'],kind='kde')\n",
    "plt.title('BMI Distribution')\n",
    "plt.show()"
   ]
  },
  {
   "cell_type": "markdown",
   "id": "08fedcc6",
   "metadata": {},
   "source": [
    "##### From the plot above, we can draw an inference that the BMI of individual in the dataset is normally distributed i.e the mean, median and mode are all centered. Also the most BMI in the dataset is around 30. This shows that most people are slightly overweighted and so close to being Obese."
   ]
  },
  {
   "cell_type": "code",
   "execution_count": null,
   "id": "2d5ab29a",
   "metadata": {},
   "outputs": [],
   "source": [
    "sns.set()\n",
    "plt.figure(figsize=(8,6))\n",
    "sns.displot(x=insurance['children'])\n",
    "plt.title('Children Distribution')\n",
    "plt.show()"
   ]
  },
  {
   "cell_type": "markdown",
   "id": "d066a6ae",
   "metadata": {},
   "source": [
    "##### This univariant analysis shows that people with no children are much when compared to those with children and as such the plot is right-skewed"
   ]
  },
  {
   "cell_type": "code",
   "execution_count": null,
   "id": "cf3139b1",
   "metadata": {},
   "outputs": [],
   "source": [
    "#Value count of  smmokers and non-smokers\n",
    "\n",
    "insurance['smoker'].value_counts()"
   ]
  },
  {
   "cell_type": "code",
   "execution_count": null,
   "id": "27bd05f7",
   "metadata": {},
   "outputs": [],
   "source": [
    "sns.set()\n",
    "plt.figure(figsize=(8,6))\n",
    "sns.displot(x=insurance['smoker'])\n",
    "plt.title('Smokers Distribution')\n",
    "plt.show()"
   ]
  },
  {
   "cell_type": "markdown",
   "id": "6e331a72",
   "metadata": {},
   "source": [
    "##### The inference drawn from the plot above shows that we have very few smokers compared to non-smokers which is a good thing for the health of an individual"
   ]
  },
  {
   "cell_type": "code",
   "execution_count": null,
   "id": "1b43bc16",
   "metadata": {},
   "outputs": [],
   "source": [
    "smokers=insurance[insurance['smoker']=='yes']"
   ]
  },
  {
   "cell_type": "code",
   "execution_count": null,
   "id": "b5111452",
   "metadata": {
    "scrolled": false
   },
   "outputs": [],
   "source": [
    "smokers"
   ]
  },
  {
   "cell_type": "code",
   "execution_count": null,
   "id": "8156aed2",
   "metadata": {
    "scrolled": true
   },
   "outputs": [],
   "source": [
    "smokers['children'].value_counts()"
   ]
  },
  {
   "cell_type": "code",
   "execution_count": null,
   "id": "c0bfa636",
   "metadata": {},
   "outputs": [],
   "source": [
    "smokers['region'].value_counts()"
   ]
  },
  {
   "cell_type": "code",
   "execution_count": null,
   "id": "ec196751",
   "metadata": {
    "scrolled": false
   },
   "outputs": [],
   "source": [
    "sns.set()\n",
    "plt.figure(figsize=(8,6))\n",
    "sns.barplot(smokers['region'].value_counts().keys(),smokers['region'].value_counts())\n",
    "plt.title('Smokers by region')\n",
    "plt.show()"
   ]
  },
  {
   "cell_type": "markdown",
   "id": "f6c1109f",
   "metadata": {},
   "source": [
    "##### From our plot, there are more number of people in the 'Southeast than any other region"
   ]
  },
  {
   "cell_type": "markdown",
   "id": "631e9b93",
   "metadata": {},
   "source": [
    "#### So far, it is evident enough that we have both numerical and categorical columns. The categorical columns will not be accepted into the model if not converted to numbers. Thus, we can achieve that by encoding each categorical column.\n",
    "\n",
    "#### The sex, region and smoker can be encoded"
   ]
  },
  {
   "cell_type": "code",
   "execution_count": null,
   "id": "787f1b26",
   "metadata": {},
   "outputs": [],
   "source": [
    "#Label encoding of the sex column\n",
    "insurance['sex'].replace({\"female\":1,\"male\":0},inplace=True)\n",
    "\n",
    "#label encoding of the smokers column\n",
    "insurance['smoker'].replace({\"yes\":1,\"no\":0},inplace=True)\n",
    "\n",
    "#label encoding of the region column\n",
    "insurance['region'].replace({\"southeast\":0,\"southwest\":1,\"northeast\":2,\"northwest\":3},inplace=True)"
   ]
  },
  {
   "cell_type": "code",
   "execution_count": null,
   "id": "4a7443a9",
   "metadata": {
    "scrolled": true
   },
   "outputs": [],
   "source": [
    "insurance.head()"
   ]
  },
  {
   "cell_type": "code",
   "execution_count": null,
   "id": "e18743c9",
   "metadata": {
    "scrolled": false
   },
   "outputs": [],
   "source": [
    "#Display the correlation matrix\n",
    "\n",
    "plt.figure(figsize=(10,10))\n",
    "sns.heatmap(insurance.corr(),annot=True)\n",
    "plt.title('Correlation Matrix')"
   ]
  },
  {
   "cell_type": "markdown",
   "id": "2eb58d56",
   "metadata": {},
   "source": [
    "##### Inference from the correlation analysis shows that the children included in the scheme and smokers status of an inidividual are positively correlated with the charges incurred for medical insuance. Do note that the correlation be it positive or negative doesn't signify causation but can show us which features could impact on our model"
   ]
  },
  {
   "cell_type": "markdown",
   "id": "74580e65",
   "metadata": {},
   "source": [
    "# 🔧Feature Engineering"
   ]
  },
  {
   "cell_type": "code",
   "execution_count": null,
   "id": "0789d2b4",
   "metadata": {},
   "outputs": [],
   "source": [
    "#Split the dataset into features and target\n",
    "\n",
    "X=insurance.iloc[:,0:-1]"
   ]
  },
  {
   "cell_type": "code",
   "execution_count": null,
   "id": "4c83ff38",
   "metadata": {
    "scrolled": true
   },
   "outputs": [],
   "source": [
    "print(X)"
   ]
  },
  {
   "cell_type": "code",
   "execution_count": null,
   "id": "5be368e6",
   "metadata": {},
   "outputs": [],
   "source": [
    "print(X.shape)"
   ]
  },
  {
   "cell_type": "code",
   "execution_count": null,
   "id": "c12ebcac",
   "metadata": {},
   "outputs": [],
   "source": [
    "y=insurance.iloc[:,-1]"
   ]
  },
  {
   "cell_type": "code",
   "execution_count": null,
   "id": "13b340e8",
   "metadata": {
    "scrolled": false
   },
   "outputs": [],
   "source": [
    "print(y)"
   ]
  },
  {
   "cell_type": "code",
   "execution_count": null,
   "id": "663212a3",
   "metadata": {
    "scrolled": false
   },
   "outputs": [],
   "source": [
    "print(y.shape)"
   ]
  },
  {
   "cell_type": "markdown",
   "id": "c111a37d",
   "metadata": {},
   "source": [
    "## Split the dataset into training and test data"
   ]
  },
  {
   "cell_type": "code",
   "execution_count": null,
   "id": "68d8d417",
   "metadata": {},
   "outputs": [],
   "source": [
    "#import the train_test_split function\n",
    "\n",
    "from sklearn.model_selection import train_test_split"
   ]
  },
  {
   "cell_type": "code",
   "execution_count": null,
   "id": "0ce3af45",
   "metadata": {},
   "outputs": [],
   "source": [
    "X_train,X_test,y_train,y_test=train_test_split(X,y,test_size=0.2,random_state=1)"
   ]
  },
  {
   "cell_type": "code",
   "execution_count": null,
   "id": "357ab6df",
   "metadata": {},
   "outputs": [],
   "source": [
    "print(X.shape,X_train.shape,X_test.shape)"
   ]
  },
  {
   "cell_type": "code",
   "execution_count": null,
   "id": "3d10935d",
   "metadata": {},
   "outputs": [],
   "source": [
    "print(y.shape,y_train.shape,y_test.shape)"
   ]
  },
  {
   "cell_type": "markdown",
   "id": "359f601d",
   "metadata": {},
   "source": [
    "# 🤖Machine Learning"
   ]
  },
  {
   "cell_type": "markdown",
   "id": "7419ec53",
   "metadata": {},
   "source": [
    "## 🏋️‍Building our model"
   ]
  },
  {
   "cell_type": "code",
   "execution_count": null,
   "id": "5524480e",
   "metadata": {
    "scrolled": false
   },
   "outputs": [],
   "source": [
    "#fitting the models\n",
    "\n",
    "#import the linear regression model\n",
    "from sklearn.linear_model import LinearRegression\n",
    "lr=LinearRegression()\n",
    "lr.fit(X_train,y_train)\n",
    "\n",
    "#import the decision tree regressor\n",
    "from sklearn.tree import DecisionTreeRegressor\n",
    "dtr=DecisionTreeRegressor()\n",
    "dtr.fit(X_train,y_train)\n",
    "\n",
    "#import the random forest regressor\n",
    "from sklearn.ensemble import RandomForestRegressor\n",
    "rfr=RandomForestRegressor()\n",
    "rfr.fit(X_train,y_train)\n",
    "\n",
    "#import the support vector regressor\n",
    "from sklearn.svm import SVR\n",
    "svr=SVR()\n",
    "svr.fit(X_train,y_train)\n",
    "\n",
    "#import the Knearest neighbors regressor\n",
    "from sklearn.neighbors import KNeighborsRegressor\n",
    "knr=KNeighborsRegressor()\n",
    "knr.fit(X_train,y_train)"
   ]
  },
  {
   "cell_type": "markdown",
   "id": "dc36685f",
   "metadata": {},
   "source": [
    "## Training the models"
   ]
  },
  {
   "cell_type": "code",
   "execution_count": null,
   "id": "13477f61",
   "metadata": {},
   "outputs": [],
   "source": [
    "pred1=lr.predict(X_test)\n",
    "\n",
    "pred2=dtr.predict(X_test)\n",
    "\n",
    "pred3=rfr.predict(X_test)\n",
    "\n",
    "pred4=svr.predict(X_test)\n",
    "\n",
    "pred5=knr.predict(X_test)"
   ]
  },
  {
   "cell_type": "markdown",
   "id": "423d5f1f",
   "metadata": {},
   "source": [
    "## Evaluation metrics of model's performance"
   ]
  },
  {
   "cell_type": "markdown",
   "id": "2b07b33e",
   "metadata": {},
   "source": [
    "### Using the R-Squared metric"
   ]
  },
  {
   "cell_type": "code",
   "execution_count": null,
   "id": "3cae9748",
   "metadata": {},
   "outputs": [],
   "source": [
    "from sklearn.metrics import r2_score\n",
    "\n",
    "r1=round(r2_score(y_test,pred1),3)\n",
    "\n",
    "r2=round(r2_score(y_test,pred2),3)\n",
    "\n",
    "r3=round(r2_score(y_test,pred3),3)\n",
    "\n",
    "r4=round(r2_score(y_test,pred4),3)\n",
    "\n",
    "r5=round(r2_score(y_test,pred5),3)"
   ]
  },
  {
   "cell_type": "code",
   "execution_count": null,
   "id": "765fc0f9",
   "metadata": {},
   "outputs": [],
   "source": [
    "print(f\"The R-square value of logistic regression is: {r1}\")\n",
    "\n",
    "print(f\"The R-square value of decision tree regressor is: {r2}\")\n",
    "\n",
    "print(f\"The R-square value of random forest regressor is: {r3}\")\n",
    "\n",
    "print(f\"The R-square value of support vector regressor is: {r4}\")\n",
    "\n",
    "print(f\"The R-square value of k-nearest neighbors is: {r5}\")"
   ]
  },
  {
   "cell_type": "markdown",
   "id": "d04e1c01",
   "metadata": {},
   "source": [
    "## 📈Visualization of the metrics"
   ]
  },
  {
   "cell_type": "code",
   "execution_count": null,
   "id": "a00ee655",
   "metadata": {},
   "outputs": [],
   "source": [
    "model_data={'model':['LR','DTR','RF','SVR','KNN'],\n",
    "           'r_square':[r1,r2,r3,r4,r5]\n",
    "           }"
   ]
  },
  {
   "cell_type": "code",
   "execution_count": null,
   "id": "f181e95a",
   "metadata": {},
   "outputs": [],
   "source": [
    "pd.DataFrame(model_data)"
   ]
  },
  {
   "cell_type": "code",
   "execution_count": null,
   "id": "de9b8686",
   "metadata": {},
   "outputs": [],
   "source": [
    "plt.figure(figsize=(8,6))\n",
    "sns.barplot(x=model_data['model'],y=model_data['r_square'])\n",
    "plt.title('R-Square Metrics')"
   ]
  },
  {
   "cell_type": "markdown",
   "id": "a5decf27",
   "metadata": {},
   "source": [
    "##### Visualiztion of the metrics shows that the Random Forest Model has a high R-square value and hence can be used to build a predictive model. Before we conclude on this, let's check the r-square of the training dataset and compare with that of the test data set "
   ]
  },
  {
   "cell_type": "code",
   "execution_count": null,
   "id": "21253560",
   "metadata": {},
   "outputs": [],
   "source": [
    "#Predict the train dataset\n",
    "\n",
    "train_data_prediction=rfr.predict(X_train)"
   ]
  },
  {
   "cell_type": "code",
   "execution_count": null,
   "id": "7d417f6d",
   "metadata": {},
   "outputs": [],
   "source": [
    "#check the r-square value of the train dataset\n",
    "\n",
    "r2_train_data=round(r2_score(y_train,train_data_prediction),3)"
   ]
  },
  {
   "cell_type": "code",
   "execution_count": null,
   "id": "c3cd7d9b",
   "metadata": {},
   "outputs": [],
   "source": [
    "r2_train_data"
   ]
  },
  {
   "cell_type": "code",
   "execution_count": null,
   "id": "5a8ae8f8",
   "metadata": {},
   "outputs": [],
   "source": [
    "difference=r2_train_data - r4\n",
    "\n",
    "print(format(difference,'.3f'))"
   ]
  },
  {
   "cell_type": "markdown",
   "id": "c2a760f4",
   "metadata": {},
   "source": [
    "##### The difference between the r-square is quite small and hence can conclude that there is no overfitting. We can go ahead and make use of the model."
   ]
  },
  {
   "cell_type": "code",
   "execution_count": null,
   "id": "1aade78d",
   "metadata": {},
   "outputs": [],
   "source": [
    "#Hypertune the regressor to iterate over 1000 in search of a better prediction and to maintain a particular state when iterating\n",
    "\n",
    "regressor=RandomForestRegressor(random_state=2,n_estimators=1000)\n",
    "regressor.fit(X_train,y_train)"
   ]
  },
  {
   "cell_type": "markdown",
   "id": "ee56e166",
   "metadata": {},
   "source": [
    "## Building a predictive system"
   ]
  },
  {
   "cell_type": "code",
   "execution_count": null,
   "id": "6722bc65",
   "metadata": {},
   "outputs": [],
   "source": [
    "input_data=[27,0,42.13,0,1,0]\n",
    "\n",
    "input_data_to_array=np.asarray(input_data)\n",
    "\n",
    "input_data_reshaped=input_data_to_array.reshape(1,-1)"
   ]
  },
  {
   "cell_type": "code",
   "execution_count": null,
   "id": "7f630d77",
   "metadata": {
    "scrolled": true
   },
   "outputs": [],
   "source": [
    "prediction=regressor.predict(input_data_reshaped)"
   ]
  },
  {
   "cell_type": "code",
   "execution_count": null,
   "id": "a9699723",
   "metadata": {},
   "outputs": [],
   "source": [
    "print(\"The insurance cost is $\",format(prediction[0],'.2f'),sep='')"
   ]
  },
  {
   "cell_type": "markdown",
   "id": "8859458a",
   "metadata": {},
   "source": [
    "## ✔Saving the model"
   ]
  },
  {
   "cell_type": "code",
   "execution_count": null,
   "id": "6ff5710a",
   "metadata": {},
   "outputs": [],
   "source": [
    "import joblib\n",
    "\n",
    "joblib.dump(regressor,'regressor.joblib')\n",
    "\n",
    "print(\"Model has been saved\")"
   ]
  },
  {
   "cell_type": "code",
   "execution_count": null,
   "id": "dd2d6a6f",
   "metadata": {},
   "outputs": [],
   "source": [
    "model=joblib.load('regressor.joblib')\n",
    "\n",
    "input_data_to_array=np.asarray([27,0,42.13,0,1,0])\n",
    "\n",
    "input_data_reshaped=input_data_to_array.reshape(1,-1)\n",
    "model.predict(input_data_reshaped)"
   ]
  }
 ],
 "metadata": {
  "kernelspec": {
   "display_name": "Python 3 (ipykernel)",
   "language": "python",
   "name": "python3"
  },
  "language_info": {
   "codemirror_mode": {
    "name": "ipython",
    "version": 3
   },
   "file_extension": ".py",
   "mimetype": "text/x-python",
   "name": "python",
   "nbconvert_exporter": "python",
   "pygments_lexer": "ipython3",
   "version": "3.9.7"
  }
 },
 "nbformat": 4,
 "nbformat_minor": 5
}
